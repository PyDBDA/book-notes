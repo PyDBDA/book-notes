{
 "cells": [
  {
   "cell_type": "code",
   "execution_count": 30,
   "metadata": {},
   "outputs": [],
   "source": [
    "import pandas as pd\n",
    "import matplotlib.pyplot as plt\n",
    "import numpy as np\n",
    "%matplotlib inline"
   ]
  },
  {
   "cell_type": "markdown",
   "metadata": {},
   "source": [
    "**Exercise 4.1.** (Purpose: To gain experience with the apply function in R, while dealing with a concrete example of computing conditional probabilities.) The eye-color hair-color data from Table 4.1 are built into R as the array named HairEyeColor. The array is frequencies of eye and hair color for males and females. Run the following code in R:"
   ]
  },
  {
   "cell_type": "code",
   "execution_count": 24,
   "metadata": {},
   "outputs": [],
   "source": [
    "# Generate the table\n",
    "hairEyeColorArray = [[0.11, 0.2, 0.043, 0.013], [0.03, 0.14, 0.03, 0.16],\n",
    "                     [0.03, 0.09, 0.02, 0.02], [0.01, 0.05, 0.02, 0.03]]\n",
    "hairList = ['Black', 'Brunette', 'Red', 'Blond']\n",
    "eyeList = ['Brown', 'Blue', 'Hazel', 'Green']\n",
    "hairEyeColorDf = pd.DataFrame(hairEyeColorArray).round(2)\n",
    "hairEyeColorDf.columns = hairList\n",
    "hairEyeColorDf.index = eyeList\n",
    "hairProp = hairEyeColorDf.sum()\n",
    "eyeProp = hairEyeColorDf.sum(axis=1)"
   ]
  },
  {
   "cell_type": "code",
   "execution_count": 28,
   "metadata": {},
   "outputs": [
    {
     "data": {
      "text/plain": [
       "Black       0.08\n",
       "Brunette    0.39\n",
       "Red         0.08\n",
       "Blond       0.44\n",
       "Name: Blue, dtype: float64"
      ]
     },
     "execution_count": 28,
     "metadata": {},
     "output_type": "execute_result"
    }
   ],
   "source": [
    "# Conditional probablities\n",
    "condBlue = hairEyeColorDf.loc['Blue']/hairEyeColorDf.loc['Blue'].sum()\n",
    "condBlue.round(2)"
   ]
  },
  {
   "cell_type": "markdown",
   "metadata": {},
   "source": [
    "**Exercise 4.2.** (Purpose: To give you some experience with random number generation in R.) Modify the coin flipping program in Section 4.5 RunningProportion.R to simulate a biased coin that has p(H) = 0.8. Change the height of the reference line in the plot to match p(H). Comment your code. Hint: Read the help for the sample command."
   ]
  },
  {
   "cell_type": "code",
   "execution_count": null,
   "metadata": {},
   "outputs": [],
   "source": []
  },
  {
   "cell_type": "markdown",
   "metadata": {},
   "source": [
    "**Exercise 4.3.** (Purpose: To have you work through an example of the logic presented in Section 4.2.1.2.) Determine the exact probability of drawing a 10 from a shuffled pinochle deck. (In a pinochle deck, there are 48 cards. There are six values: 9, 10, Jack, Queen, King, Ace. There are two copies of each value in each of the standard four suits: hearts, diamonds, clubs, spades.)\n",
    "   \n",
    "    (A) What is the probability of getting a 10?\n",
    "    \n",
    "    (B) What is the probability of getting a 10 or Jack?\n"
   ]
  },
  {
   "cell_type": "markdown",
   "metadata": {},
   "source": [
    "**Exercise 4.4.** (Purpose: To give you hands-on experience with a simple probability density function, in R and in calculus, and to reemphasize that density functions can have values larger than 1.) Consider a spinner with a [0,1] scale on its circumference. Suppose that the spinner is slanted or magnetized or bent in some way such that it is biased, and its probability density function is p(x) = 6x(1 − x) over the interval x ∈ [0, 1].\n",
    "\n",
    "    (A) Adapt the program IntegralOfDensity.R to plot this density function and approximate its integral. Comment your code. Be careful to consider values of x only in the interval [0, 1]. Hint: You can omit the first couple of lines regarding meanval and sdval, because those parameter values pertain only to the normal distribution. Then set xlow=0 and xhigh=1, and set dx to some small value.\n",
    "\n",
    "    (B) Derive the exact integral using calculus. Hint: See the example, Equation 4.7. \n",
    "    \n",
    "    (C) Does this function satisfy Equation 4.3?\n",
    "\n",
    "    (D) From inspecting the graph, what is the maximal value of p(x)?\n"
   ]
  },
  {
   "cell_type": "code",
   "execution_count": 42,
   "metadata": {},
   "outputs": [
    {
     "data": {
      "image/png": "[encoded data removed]",
      "text/plain": [
       "<Figure size 432x288 with 1 Axes>"
      ]
     },
     "metadata": {},
     "output_type": "display_data"
    }
   ],
   "source": [
    "#(A)\n",
    "def plot_func(f, xlim):\n",
    "    x = np.linspace(xlim[0], xlim[1], 1000)\n",
    "    fig, ax = plt.subplots()\n",
    "    ax.plot(x,f)\n",
    "\n",
    "f = 6*x*(1-x)\n",
    "plot_func(f, (0,1))"
   ]
  },
  {
   "cell_type": "markdown",
   "metadata": {},
   "source": [
    "**Exercise 4.6.** [Purpose: Recognize and work with the fact that Equation 4.9 can be solved for the joint probability, which will be crucial for developing Bayes’ theorem.] School children were surveyed regarding their favorite foods. Of the total sample, 20% were 1st graders, 20% were 6th graders, and 60% were 11th graders. For each grade, the following table shows the proportion of respondents that chose each of three foods as their favorite:\n",
    "\n",
    "From that information, construct a table of joint probabilities of grade and favorite food. Also, say whether grade and favorite food are independent or not, and how you ascertained the answer. Hint: You are given p(grade) and p(food|grade). You need to determine p(grade,food)."
   ]
  },
  {
   "cell_type": "code",
   "execution_count": 46,
   "metadata": {},
   "outputs": [
    {
     "data": {
      "text/html": [
       "<div>\n",
       "<style scoped>\n",
       "    .dataframe tbody tr th:only-of-type {\n",
       "        vertical-align: middle;\n",
       "    }\n",
       "\n",
       "    .dataframe tbody tr th {\n",
       "        vertical-align: top;\n",
       "    }\n",
       "\n",
       "    .dataframe thead th {\n",
       "        text-align: right;\n",
       "    }\n",
       "</style>\n",
       "<table border=\"1\" class=\"dataframe\">\n",
       "  <thead>\n",
       "    <tr style=\"text-align: right;\">\n",
       "      <th></th>\n",
       "      <th>Ice cream</th>\n",
       "      <th>Fruit</th>\n",
       "      <th>French fries</th>\n",
       "    </tr>\n",
       "  </thead>\n",
       "  <tbody>\n",
       "    <tr>\n",
       "      <th>1st graders</th>\n",
       "      <td>0.3</td>\n",
       "      <td>0.6</td>\n",
       "      <td>0.1</td>\n",
       "    </tr>\n",
       "    <tr>\n",
       "      <th>6th graders</th>\n",
       "      <td>0.6</td>\n",
       "      <td>0.3</td>\n",
       "      <td>0.1</td>\n",
       "    </tr>\n",
       "    <tr>\n",
       "      <th>11th graders</th>\n",
       "      <td>0.3</td>\n",
       "      <td>0.1</td>\n",
       "      <td>0.6</td>\n",
       "    </tr>\n",
       "  </tbody>\n",
       "</table>\n",
       "</div>"
      ],
      "text/plain": [
       "              Ice cream  Fruit  French fries\n",
       "1st graders         0.3    0.6           0.1\n",
       "6th graders         0.6    0.3           0.1\n",
       "11th graders        0.3    0.1           0.6"
      ]
     },
     "execution_count": 46,
     "metadata": {},
     "output_type": "execute_result"
    }
   ],
   "source": [
    "survey_array = [[0.3, 0.6, 0.1], [0.6, 0.3, 0.1],[0.3, 0.1, 0.6]]\n",
    "df = pd.DataFrame(survey_array)\n",
    "df.index = ['1st graders', '6th graders', '11th graders']\n",
    "df.columns = ['Ice cream', 'Fruit', 'French fries']\n"
   ]
  },
  {
   "cell_type": "code",
   "execution_count": 48,
   "metadata": {},
   "outputs": [
    {
     "data": {
      "text/html": [
       "<div>\n",
       "<style scoped>\n",
       "    .dataframe tbody tr th:only-of-type {\n",
       "        vertical-align: middle;\n",
       "    }\n",
       "\n",
       "    .dataframe tbody tr th {\n",
       "        vertical-align: top;\n",
       "    }\n",
       "\n",
       "    .dataframe thead th {\n",
       "        text-align: right;\n",
       "    }\n",
       "</style>\n",
       "<table border=\"1\" class=\"dataframe\">\n",
       "  <thead>\n",
       "    <tr style=\"text-align: right;\">\n",
       "      <th></th>\n",
       "      <th>Ice cream</th>\n",
       "      <th>Fruit</th>\n",
       "      <th>French fries</th>\n",
       "    </tr>\n",
       "  </thead>\n",
       "  <tbody>\n",
       "    <tr>\n",
       "      <th>1st graders</th>\n",
       "      <td>0.06</td>\n",
       "      <td>0.12</td>\n",
       "      <td>0.02</td>\n",
       "    </tr>\n",
       "    <tr>\n",
       "      <th>6th graders</th>\n",
       "      <td>0.12</td>\n",
       "      <td>0.06</td>\n",
       "      <td>0.02</td>\n",
       "    </tr>\n",
       "    <tr>\n",
       "      <th>11th graders</th>\n",
       "      <td>0.18</td>\n",
       "      <td>0.06</td>\n",
       "      <td>0.36</td>\n",
       "    </tr>\n",
       "  </tbody>\n",
       "</table>\n",
       "</div>"
      ],
      "text/plain": [
       "              Ice cream  Fruit  French fries\n",
       "1st graders        0.06   0.12          0.02\n",
       "6th graders        0.12   0.06          0.02\n",
       "11th graders       0.18   0.06          0.36"
      ]
     },
     "execution_count": 48,
     "metadata": {},
     "output_type": "execute_result"
    }
   ],
   "source": [
    "# Joint distribution\n",
    "df.loc['1st graders'] = df.loc['1st graders']*0.2\n",
    "df.loc['6th graders'] = df.loc['6th graders']*0.2\n",
    "df.loc['11th graders'] = df.loc['11th graders']*0.6\n",
    "df\n"
   ]
  },
  {
   "cell_type": "code",
   "execution_count": 56,
   "metadata": {},
   "outputs": [],
   "source": [
    "p_ice_cream, p_fruit, p_french_fries = df.sum()\n",
    "p_1st, p_6th, p_11th = df.sum(axis=1)"
   ]
  },
  {
   "cell_type": "code",
   "execution_count": 58,
   "metadata": {},
   "outputs": [
    {
     "name": "stdout",
     "output_type": "stream",
     "text": [
      "0.12\n",
      "0.24 0.2\n",
      "False\n"
     ]
    }
   ],
   "source": [
    "p_fruit_bar_1st = df.loc['1st graders', 'Fruit']\n",
    "\n",
    "print(p_fruit_bar_1st)\n",
    "print(p_fruit, p_1st)\n",
    "print(p_fruit_bar_1st == p_fruit * p_1st)"
   ]
  }
 ],
 "metadata": {
  "kernelspec": {
   "display_name": "Python 3",
   "language": "python",
   "name": "python3"
  },
  "language_info": {
   "codemirror_mode": {
    "name": "ipython",
    "version": 3
   },
   "file_extension": ".py",
   "mimetype": "text/x-python",
   "name": "python",
   "nbconvert_exporter": "python",
   "pygments_lexer": "ipython3",
   "version": "3.6.4"
  }
 },
 "nbformat": 4,
 "nbformat_minor": 2
}
