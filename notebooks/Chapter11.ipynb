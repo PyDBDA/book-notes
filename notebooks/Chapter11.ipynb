{
 "cells": [
  {
   "cell_type": "code",
   "execution_count": 15,
   "metadata": {},
   "outputs": [],
   "source": [
    "%matplotlib inline\n",
    "import matplotlib.pyplot as plt\n",
    "plt.rcParams['lines.linewidth'] = 2\n",
    "plt.rcParams['lines.color'] = 'r'\n",
    "plt.rcParams['font.size'] = 15\n",
    "plt.rcParams['axes.labelsize'] = 20\n",
    "plt.rcParams['axes.titlesize'] = 10\n",
    "plt.rcParams['xtick.labelsize'] = 12\n",
    "plt.rcParams['ytick.labelsize'] = 12\n",
    "plt.rcParams['legend.fontsize'] = 10\n",
    "plt.rcParams[\"axes.edgecolor\"] = \"black\"\n",
    "plt.rcParams['axes.titlesize'] = 20\n",
    "plt.rcParams['figure.figsize'] = 8, 8\n",
    "from IPython.display import Image\n",
    "color = 'lightsteelblue'"
   ]
  },
  {
   "cell_type": "code",
   "execution_count": 88,
   "metadata": {},
   "outputs": [],
   "source": [
    "import pymc3 as pm\n",
    "import random\n",
    "import numpy as np\n",
    "from scipy.stats import beta, binom, bernoulli, poisson\n",
    "import pandas as pd\n",
    "import math \n",
    "import matplotlib.pyplot as plt\n",
    "from mpl_toolkits.mplot3d import Axes3D\n",
    "from matplotlib import gridspec\n",
    "from collections import Counter"
   ]
  },
  {
   "cell_type": "markdown",
   "metadata": {},
   "source": [
    "# Chapter 11: Null Hypothesis Significance Testing (NHST)\n",
    " \n",
    "The goal of NHST is to decide whether a particular parameter value can be rejected. To do this, the exacty probabilities of all possibilities need to be calcualted. A p-value is defined as the probability of obtaining a sample outcome from the hypothesized population that is equal to or more extreme than the actual outcome. \n",
    "\n",
    "## Calculating P-value\n",
    "\n",
    "We flip a coin 24 times (N = 24) and get 7 heads (z = 7).\n",
    "1. We define a bernoulli distribution as the likelihood function for this coin flip model in which $\\theta$ is the probability of getting heads. \n",
    "2. The possible samples are defined by the stopping condition of the experiment (I).\n",
    "3. The outcomes are defined by they sampling process.\n",
    "4. The null hypothesis is the likelihood function with a value for the parameter ($\\theta$).\n",
    "\n",
    "Each sample generated from the null hypothesis is denoted as $D_{\\theta,I}$. The probability distribution over all of the samples is the sampling distribution, denoted as $p(D_{\\theta,I}|\\theta,I)$. The p-value is defined as the number of sample outcomes that are as at least extreme as the observed outcome and can be written as \n",
    "\n",
    "$$ p-value = p(D_{\\theta,I} \\succeq D_{actual}|\\theta,I) $$\n",
    "\n",
    "There are typically three defined p-values; the right tail, the left tail, and the two tail.\n",
    "\n",
    "$$ p(right) =  p( (z/N)_{\\theta,I} \\geq (z/N)_{actual}|\\theta,I)$$\n",
    "\n",
    "$$ p(left) =  p( (z/N)_{\\theta,I} \\leq (z/N)_{actual}|\\theta,I)$$\n",
    "\n",
    "$$ p(two) =  2 * p( (z/N)_{\\theta,I} \\geq (z/N)_{actual}|\\theta,I)$$\n",
    "\n",
    "If the p-value is less than a previously chosen critical value, the null hypothesis can be rejected. \n",
    "\n",
    "One problem with NHST is that a different p-value arises for different experiment types. For example, in the coin flip example, an experimenter can fix N, fix z, or even fix the amount of time. The bayesian interpretation of this problem is completely independent of the sampling method.\n",
    "\n",
    "## Priors\n",
    "\n",
    "NHST do not rely on a prior. While the prior assigned by an experimenter can also be arbitrary, it must be convincing to readers. \n",
    "\n",
    "## Confidence Intervals and Highest Density Intervals\n",
    "\n",
    "A confidence interval (CI) is the range parameter values in which the null hypothesis would not be rejected. But, similar to the p-value, the range greatly depends on the experiment conditions. Because confidence intervals are built from p-values, any issue would be present in both.\n",
    "\n",
    "An analogous concert in bayesian analysis is the Highest Density Interval (HDI). The HDI is defined as the values of $\\theta$ that have a level of posterior credibility such that the total probability of all $\\theta$s is some value. In the case of a 95% HDI, the total probability of all $\\theta$s is 95%. It is essentially a probability distribution with the 95% most credible values of $\\theta$ and its associated credibility.\n",
    "\n",
    "There are three advantages to using an HDI over a CI.\n",
    "\n",
    "1. The HDI is explicitly about the probability of the parameter given the data while a CI only describes the probability of rejecting the parameter. \n",
    "2. The HDI is completely independent of the experiment conditions. \n",
    "3. The HDI incorporates the prior belief of the experimenter while the CI does not.\n",
    "\n",
    "## Multiple Comparisons\n",
    "\n",
    "When comparing multiple groups using NHST, each comparison can have lead to a false alarm and an increased p-value. For example, consider the false alarm rate $\\alpha$. Its complement is the not false alarm rate $1 - \\alpha$. Given X independent tests, $(1 - \\alpha)^X$ is the probability of not getting a false alarm on all tests. Thus, the probability of getting at least one false alarm is $1 - (1 - \\alpha)^X$. Given $\\alpha = 0.05$, below is a graph of the probability of getting at least one false alarm. "
   ]
  },
  {
   "cell_type": "code",
   "execution_count": 12,
   "metadata": {},
   "outputs": [
    {
     "data": {
      "image/png": "[encoded data removed]",
      "text/plain": [
       "<matplotlib.figure.Figure at 0x111b1e860>"
      ]
     },
     "metadata": {},
     "output_type": "display_data"
    }
   ],
   "source": [
    "fig, ax = plt.subplots()\n",
    "\n",
    "alpha = 0.05\n",
    "f_alarm = lambda x: 1 - (1-alpha)**x\n",
    "\n",
    "X = range(0,100)\n",
    "Y = list(map(f_alarm, X))\n",
    "\n",
    "ax.plot(X,Y, color = color)\n",
    "ax.set_xlabel(r'X')\n",
    "ax.set_ylabel(r'Probability of at Least 1 False Alarm')\n",
    "ax.set_title('Multiple Testing False Alarm Rate')\n",
    "\n",
    "fig.tight_layout()"
   ]
  },
  {
   "cell_type": "markdown",
   "metadata": {},
   "source": [
    "At about 40 tests, there is greater than a 80% chance that there is at least one false alarm. When considering thousands of tests, it is guaranteed there is at least one false alarm. \n",
    "\n",
    "One method of reducing the false alarm rate is by reducing the criteria for rejecting the null hypothesis. The Bonferroni correction is one such method in which the criteria is reduced by dividing by the number of tests. This correction tends to be too conservative for most \n",
    "\n",
    "In a bayesian analysis, multiple testing false alarm rates are not a worry as each data point is completely independent of any other factor in the experiment. In general though, false alarm rates are kept low by incorporating prior knowledge. \n",
    "\n",
    "# Chapter 11: Exercises\n",
    "\n",
    "## Exercise 11.1\n",
    "\n",
    "We have a six-sided die, and we want to know whether the probability that the six-dotted face comes up is fair. Thus, we are considering two possible outcomes: six-dots or not six-dots. If the die is fair, the probability of the six-dotted face is 1/6.\n",
    "\n",
    "A. Suppose we roll the die N = 45 times, intending to stop at that number of rolls. Suppose we get 3 six-dot rolls. What is the two-tailed p value? Why consider using the low-tail p-value?\n",
    "\n",
    "Answer: We consider the low tail because the observed number of six-dot rolls is less than the expected amount (9). The p-value os 0.08. With a critical value of 0.05, we fail to reject the null hypothesis of $\\theta = 1/6$."
   ]
  },
  {
   "cell_type": "code",
   "execution_count": 20,
   "metadata": {},
   "outputs": [
    {
     "name": "stdout",
     "output_type": "stream",
     "text": [
      "p-value = 0.0892033442148\n"
     ]
    }
   ],
   "source": [
    "N = 45\n",
    "z = 3\n",
    "theta = 1/6\n",
    "\n",
    "p = 2 * sum(binom.pmf(x, N, theta) for x in range(0,z+1))\n",
    "print('p-value =', p)"
   ]
  },
  {
   "cell_type": "markdown",
   "metadata": {},
   "source": [
    "B. Suppose that instead of stopping at a fixed N, we stop when we get 3 six-dot outcomes. It takes 45 rolls. (Notice this is the same result as the previous part.) What is the two-tailed p value?\n",
    "\n",
    "Answer: The two tailed p-value is 0.0313. The p-value is less than than the critical value, thus we reject the null hypothesis that $\\theta = 1/6$. The same experiment with the same values led to a different conclusion because of the experiment type."
   ]
  },
  {
   "cell_type": "code",
   "execution_count": 36,
   "metadata": {},
   "outputs": [
    {
     "name": "stdout",
     "output_type": "stream",
     "text": [
      "p-value = 0.031262731621326756\n"
     ]
    }
   ],
   "source": [
    "N = 45\n",
    "z = 3\n",
    "theta = 1/6\n",
    "\n",
    "def nbinom(x,n,p):\n",
    "    a = z/n\n",
    "    b = math.factorial(n)/math.factorial(x)/math.factorial(n-x)\n",
    "    c = p**x * (1-p)**(n-x)\n",
    "    return a*b*c\n",
    "\n",
    "prob_n_flips = sum(nbinom(z, x, theta) for x in range(z,N))\n",
    "prob_less_n_flips = 1 - prob_n_flips\n",
    "two_tail = 2 * prob_less_n_flips\n",
    "print('p-value =', two_tail)"
   ]
  },
  {
   "cell_type": "markdown",
   "metadata": {},
   "source": [
    "## Exercise 11.2\n",
    "\n",
    "Similar to above, N = 45 and z = 3. \n",
    "\n",
    "A.If the intention is to stop when N = 45, what is the 95% CI?\n",
    "\n",
    "Answer: The confidence interval is from [0.014, 0.183]. "
   ]
  },
  {
   "cell_type": "code",
   "execution_count": 64,
   "metadata": {},
   "outputs": [
    {
     "name": "stdout",
     "output_type": "stream",
     "text": [
      "CI Bounds = [ 0.014014014014 , 0.182515849183 ]\n"
     ]
    }
   ],
   "source": [
    "alpha = 0.05\n",
    "N = 45\n",
    "z = 3\n",
    "thetas_low = np.linspace(0,z/N,1000)\n",
    "thetas_high = np.linspace(z/N,1,1000)\n",
    "\n",
    "CI = []\n",
    "\n",
    "for theta in thetas_low:\n",
    "    p = 2 * sum(binom.pmf(x, N, theta) for x in range(z,N+1))\n",
    "    if p > alpha:\n",
    "        CI.append(theta)\n",
    "        \n",
    "for theta in thetas_high:\n",
    "    p = 2 * sum(binom.pmf(x, N, theta) for x in range(0,z+1))\n",
    "    if p > alpha:\n",
    "        CI.append(theta)\n",
    "        \n",
    "print(\"CI Bounds = [\", min(CI), ',' ,max(CI),']')"
   ]
  },
  {
   "cell_type": "markdown",
   "metadata": {},
   "source": [
    "B. If the intention is to stop when z = 3, what is the 95% CI? Is the CI the same as for stopping when N = 45?\n",
    "\n",
    "Answer: Answer: The confidence interval is from [0.014, 0.154]. In the previous experiment, $\\theta = 1/6$ was in the confidence interval, but now it is not."
   ]
  },
  {
   "cell_type": "code",
   "execution_count": 87,
   "metadata": {},
   "outputs": [
    {
     "name": "stdout",
     "output_type": "stream",
     "text": [
      "CI Bounds = [ 0.014014014014 , 0.154487821154 ]\n"
     ]
    }
   ],
   "source": [
    "alpha = 0.05\n",
    "N = 45\n",
    "z = 3\n",
    "thetas_low = np.linspace(0,z/N,1000)\n",
    "thetas_high = np.linspace(z/N,1,1000)\n",
    "\n",
    "def nbinom(x,n,p):\n",
    "    a = z/n\n",
    "    b = math.factorial(n)/math.factorial(x)/math.factorial(n-x)\n",
    "    c = p**x * (1-p)**(n-x)\n",
    "    return a*b*c\n",
    "\n",
    "CI = []\n",
    "\n",
    "for theta in thetas_low:\n",
    "    p = 2 * sum(nbinom(z, x, theta) for x in range(z,N+1))\n",
    "    if p > alpha:\n",
    "        CI.append(theta)\n",
    "        \n",
    "for theta in thetas_high:\n",
    "    p = 2 * (1-sum(nbinom(z, x, theta) for x in range(z,N)))\n",
    "    if p > alpha:\n",
    "        CI.append(theta)\n",
    "        \n",
    "print(\"CI Bounds = [\", min(CI), ',' ,max(CI),']')"
   ]
  },
  {
   "cell_type": "markdown",
   "metadata": {},
   "source": [
    "## Exercise 11.3\n",
    "\n",
    "We continue with the scenario of the previous exercises: A dichotomous outcome, with N = 45 and z = 3. Suppose that the die-roller of the previous exercises stopped rolling because time expired at 6 min. For simplicity, suppose that during a 6-min interval, the roller could have rolled N = 40, or N = 41, or N = 42, through N = 50, with equal probability. What is the p value for the observed outcome? Is it the same p value as when assuming fixed N or fixed z?\n",
    "\n",
    "Answer: The p-value is 0.0586. This p-value is different when compared to the p-value found from assuming a fixed N or a fixed z."
   ]
  },
  {
   "cell_type": "code",
   "execution_count": 119,
   "metadata": {},
   "outputs": [
    {
     "name": "stdout",
     "output_type": "stream",
     "text": [
      "p-value = 0.0586380841311\n"
     ]
    }
   ],
   "source": [
    "N = 45\n",
    "z = 3\n",
    "theta = 1/6\n",
    "possible_Ns = range(40,51)\n",
    "Nprob = np.array(range(0,len(possible_Ns)))\n",
    "Nprob = Nprob/sum(Nprob)\n",
    "\n",
    "p_value = 0\n",
    "for i in range(len(possible_Ns)):\n",
    "    possible_N = possible_Ns[i]\n",
    "    possible_z = [x for x in range(5) if x/possible_N <= z/N]\n",
    "    p = 2 * sum(binom.pmf(x, possible_N, theta) for x in possible_z)\n",
    "    p_value += Nprob[i] * p\n",
    "    \n",
    "print(\"p-value =\",p_value)"
   ]
  }
 ],
 "metadata": {
  "kernelspec": {
   "display_name": "Python 3",
   "language": "python",
   "name": "python3"
  },
  "language_info": {
   "codemirror_mode": {
    "name": "ipython",
    "version": 3
   },
   "file_extension": ".py",
   "mimetype": "text/x-python",
   "name": "python",
   "nbconvert_exporter": "python",
   "pygments_lexer": "ipython3",
   "version": "3.6.3"
  }
 },
 "nbformat": 4,
 "nbformat_minor": 2
}
