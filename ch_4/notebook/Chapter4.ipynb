{
 "cells": [
  {
   "cell_type": "code",
   "execution_count": 7,
   "metadata": {
    "collapsed": true
   },
   "outputs": [],
   "source": [
    "%matplotlib inline\n",
    "\n",
    "import matplotlib\n",
    "import matplotlib.pyplot as plt\n",
    "\n",
    "import random\n",
    "import numpy as np\n",
    "from collections import Counter"
   ]
  },
  {
   "cell_type": "code",
   "execution_count": 129,
   "metadata": {},
   "outputs": [],
   "source": [
    "## Coin Proportions\n",
    "\n",
    "# The sample space is the possible outcomes in a coin flip\n",
    "sample_space = ['H','T']\n",
    "# N is the number of events\n",
    "N = 500\n",
    "\n",
    "# We randomly flip the coin N times by randomly sampling from the event space n teams\n",
    "flips = np.random.choice(a = sample_space, size = N, replace = True)\n",
    "# Use the Counter method to find the proportion of heads for the first n events\n",
    "heads_proportion = np.array([Counter(flips[0:n-1])['H'] / n for n in range(1,N+1)])"
   ]
  },
  {
   "cell_type": "code",
   "execution_count": 131,
   "metadata": {},
   "outputs": [
    {
     "data": {
      "text/plain": [
       "Text(0,0.5,'Proportion of Heads')"
      ]
     },
     "execution_count": 131,
     "metadata": {},
     "output_type": "execute_result"
    },
    {
     "data": {
      "image/png": "[encoded data removed]",
      "text/plain": [
       "<matplotlib.figure.Figure at 0x12139b908>"
      ]
     },
     "metadata": {},
     "output_type": "display_data"
    }
   ],
   "source": [
    "# The X and Y values for scatterplots. \n",
    "x = range(1,N+1)\n",
    "y = heads_proportion\n",
    "\n",
    "plt.ylim(0, 1)\n",
    "plt.scatter(x,y)\n",
    "plt.text(150,0.75, 'Proportion of Heads = ' + str(heads_proportion[-1]), fontsize = 15)\n",
    "plt.axhline(y=0.5, color='r', linestyle='-')\n",
    "plt.xlabel('Samples')\n",
    "plt.ylabel('Proportion of Heads')"
   ]
  },
  {
   "cell_type": "markdown",
   "metadata": {},
   "source": [
    "# Discrete Distributions"
   ]
  },
  {
   "cell_type": "code",
   "execution_count": 144,
   "metadata": {
    "collapsed": true
   },
   "outputs": [],
   "source": [
    "# Randomly sample heights (in inches) from a normal distribution\n",
    "mu, sigma = 67, 4 # mean and standard deviation\n",
    "s = np.random.normal(mu, sigma, 10000)"
   ]
  },
  {
   "cell_type": "code",
   "execution_count": 164,
   "metadata": {},
   "outputs": [
    {
     "data": {
      "text/plain": [
       "Text(0,0.5,'Probability Density')"
      ]
     },
     "execution_count": 164,
     "metadata": {},
     "output_type": "execute_result"
    },
    {
     "data": {
      "image/png": "[encoded data removed]",
      "text/plain": [
       "<matplotlib.figure.Figure at 0x122ba3cf8>"
      ]
     },
     "metadata": {},
     "output_type": "display_data"
    }
   ],
   "source": [
    "n, bins, patches = plt.hist(s, 16, normed=1, facecolor='green', alpha=0.75)\n",
    "plt.xlabel('Height in Inches')\n",
    "plt.ylabel('Probability Density')"
   ]
  },
  {
   "cell_type": "code",
   "execution_count": 165,
   "metadata": {},
   "outputs": [
    {
     "data": {
      "text/plain": [
       "Text(0,0.5,'Probability Density')"
      ]
     },
     "execution_count": 165,
     "metadata": {},
     "output_type": "execute_result"
    },
    {
     "data": {
      "image/png": "[encoded data removed]",
      "text/plain": [
       "<matplotlib.figure.Figure at 0x122d2a2b0>"
      ]
     },
     "metadata": {},
     "output_type": "display_data"
    }
   ],
   "source": [
    "n, bins, patches = plt.hist(s, 32, normed=1, facecolor='green', alpha=0.75)\n",
    "plt.xlabel('Height in Inches')\n",
    "plt.ylabel('Probability Density')"
   ]
  },
  {
   "cell_type": "markdown",
   "metadata": {},
   "source": [
    "# Continuous Distributions\n",
    "\n",
    "probability density - ratio of probability mass to width\n",
    "\n",
    "$\\int p(x) dx = 1$\n",
    "\n",
    "Normal Probability Density (Gaussian) - $\\mu$ is the mean and $\\sigma$ is the standard deviation\n",
    "\n",
    "$p(x) = \\frac{1}{\\sigma \\sqrt{2\\pi}}\\exp{-\\frac{1}{2}\\big[\\frac{x-\\mu}{\\sigma}\\big]^2}$"
   ]
  },
  {
   "cell_type": "markdown",
   "metadata": {},
   "source": [
    "# Mean and Variance\n",
    "\n",
    "Discrete Mean: $E[X] = \\sum_x xp(x)$\n",
    "\n",
    "Discrete Variance: $Var[X] = E\\big[(X-\\mu)^2\\big] = E\\big[X^2\\big] - E[X]^2$\n",
    "\n",
    "Continuous Mean: $E[X] = \\int xp(x) dx$\n",
    "\n",
    "Discrete Variance: $Var[X] = \\int p(x)(x - E[X])^2 dx $"
   ]
  },
  {
   "cell_type": "markdown",
   "metadata": {},
   "source": [
    "# Highest Density Interval (HDI)\n",
    "\n",
    "HDI is an interval on a distribution which includes the most credible points. Given a fraction Q, the Q percent HDI include all values of x such that its density is greater than W ($p(x) > W$) where W satisfies $\\int_{x:p(x) > W} p(x) dx = Q$.\n",
    "\n"
   ]
  },
  {
   "cell_type": "markdown",
   "metadata": {},
   "source": [
    "# Conditional Probability\n",
    "\n",
    "The probability of an outcome given the existence of another outcome.\n",
    "\n",
    "$ p(X=a|Y=b) = \\frac{p(X=a,Y=b)}{\\sum_{x*} p(X=x,Y=b)} $"
   ]
  }
 ],
 "metadata": {
  "kernelspec": {
   "display_name": "Python 3",
   "language": "python",
   "name": "python3"
  },
  "language_info": {
   "codemirror_mode": {
    "name": "ipython",
    "version": 3
   },
   "file_extension": ".py",
   "mimetype": "text/x-python",
   "name": "python",
   "nbconvert_exporter": "python",
   "pygments_lexer": "ipython3",
   "version": "3.6.3"
  }
 },
 "nbformat": 4,
 "nbformat_minor": 2
}
