{
 "cells": [
  {
   "cell_type": "code",
   "execution_count": 45,
   "metadata": {},
   "outputs": [],
   "source": [
    "import numpy as np\n",
    "import random\n",
    "import matplotlib.pyplot as plt\n",
    "%matplotlib inline"
   ]
  },
  {
   "cell_type": "code",
   "execution_count": 75,
   "metadata": {},
   "outputs": [],
   "source": [
    "def Bern_grid(t, pt, d):\n",
    "    # summary of data\n",
    "    z = sum(d)\n",
    "    N = len(d)\n",
    "    \n",
    "    # likelihood\n",
    "    p_d_t = [num**z * (1 - num)**(N - z) for num in t]\n",
    "    # evidence\n",
    "    p_d = sum(p_d_t * pt)\n",
    "    # posterior\n",
    "    p_t_d = p_d_t * pt / p_d\n",
    "\n",
    "    plt.figure(figsize = (7,15))\n",
    "    fig, axes = plt.subplots(3, 1)\n",
    "    # plot prior\n",
    "    axes[0].bar(range(len(theta)), ptheta, width=0.1)\n",
    "    axes[0].set_xlabel('theta')\n",
    "    axes[0].set_ylabel('P(theta)')\n",
    "    axes[0].set_title('Prior')\n",
    "    \n",
    "    # plot likelihood\n",
    "    axes[1].bar(range(len(p_d_t)), p_d_t, width=0.1)\n",
    "    axes[1].set_xlabel('theta')\n",
    "    axes[1].set_ylabel('P(D|theta)')\n",
    "    axes[1].set_title('Likelihood')\n",
    "    \n",
    "    # plot posterior\n",
    "    axes[2].bar(range(len(p_t_d)), p_t_d, width=0.1)\n",
    "    axes[2].set_xlabel('theta')\n",
    "    axes[2].set_ylabel('P(theta|D)')\n",
    "    axes[2].set_title('Posterior')\n",
    "    \n",
    "    plt.tight_layout()"
   ]
  },
  {
   "cell_type": "code",
   "execution_count": 5,
   "metadata": {},
   "outputs": [],
   "source": [
    "theta = np.arange(0, 1, 0.001)"
   ]
  },
  {
   "cell_type": "code",
   "execution_count": 13,
   "metadata": {},
   "outputs": [],
   "source": [
    "ptheta = [min(t, 1-t) for t in theta]"
   ]
  },
  {
   "cell_type": "code",
   "execution_count": 23,
   "metadata": {},
   "outputs": [],
   "source": [
    "ptheta = ptheta/sum(ptheta)"
   ]
  },
  {
   "cell_type": "code",
   "execution_count": 19,
   "metadata": {},
   "outputs": [],
   "source": [
    "data = [random.choice([0, 0, 0, 1]) for i in range(4)]"
   ]
  },
  {
   "cell_type": "code",
   "execution_count": 76,
   "metadata": {},
   "outputs": [
    {
     "data": {
      "text/plain": [
       "<matplotlib.figure.Figure at 0x113ed4b70>"
      ]
     },
     "metadata": {},
     "output_type": "display_data"
    },
    {
     "data": {
      "image/png": "[encoded data removed]",
      "text/plain": [
       "<matplotlib.figure.Figure at 0x113f00ef0>"
      ]
     },
     "metadata": {},
     "output_type": "display_data"
    }
   ],
   "source": [
    "Bern_grid(theta, ptheta, data)"
   ]
  },
  {
   "cell_type": "code",
   "execution_count": null,
   "metadata": {},
   "outputs": [],
   "source": []
  }
 ],
 "metadata": {
  "kernelspec": {
   "display_name": "Python 3",
   "language": "python",
   "name": "python3"
  },
  "language_info": {
   "codemirror_mode": {
    "name": "ipython",
    "version": 3
   },
   "file_extension": ".py",
   "mimetype": "text/x-python",
   "name": "python",
   "nbconvert_exporter": "python",
   "pygments_lexer": "ipython3",
   "version": "3.6.4"
  }
 },
 "nbformat": 4,
 "nbformat_minor": 2
}
