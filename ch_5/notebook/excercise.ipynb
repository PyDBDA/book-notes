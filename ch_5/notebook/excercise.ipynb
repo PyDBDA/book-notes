{
 "cells": [
  {
   "cell_type": "markdown",
   "metadata": {},
   "source": [
    "# Excercises\n",
    "\n",
    "## Excercise 5. 1.\n",
    "[Purpose: Iterative application of Bayes’ rule, and seeing how posterior probabilities change with inclusion of more data.] This exercise extends the ideas of Table 5.4, so at this time, please review Table 5.4 and its discussion in the text. Suppose that the same randomly selected person as in Table 5.4 gets re-tested after the first test result was positive, and on the re-test, the result is negative. When taking into account the results of both tests, what is the probability that the person has the disease? Hint: For the prior probability of the re-test, use the posterior computed from the Table 5.4. Retain as many decimal places as possible, as rounding can have a surprisingly big effect on the results. One way to avoid unnecessary rounding is to do the calculations in R."
   ]
  },
  {
   "cell_type": "code",
   "execution_count": 49,
   "metadata": {},
   "outputs": [],
   "source": [
    "p_disease = 0.001 # P(:()\n",
    "p_clean = (1 - p_disease) # P(:))\n",
    "p_true_pos = 0.99 # P(+|:()\n",
    "p_false_neg = (1 - p_true_pos) # P(-|:()\n",
    "p_false_pos = 0.05 # P(+|:))\n",
    "p_true_neg = (1 - p_false_pos) # P(-|:))"
   ]
  },
  {
   "cell_type": "code",
   "execution_count": 51,
   "metadata": {},
   "outputs": [
    {
     "name": "stdout",
     "output_type": "stream",
     "text": [
      "P(:(|+): 0.019434628975265017\n"
     ]
    }
   ],
   "source": [
    "# P(:(|+) = P(+|:()*P(:() / P(+)\n",
    "liklihood = p_true_pos\n",
    "prior = p_disease\n",
    "marginal_likelihood = (p_true_pos * p_disease) + (p_false_pos * p_clean)\n",
    "p_disease_when_pos = liklihood * prior / marginal_likelihood\n",
    "print('P(:(|+):', p_disease_when_pos)"
   ]
  },
  {
   "cell_type": "code",
   "execution_count": 12,
   "metadata": {},
   "outputs": [
    {
     "name": "stdout",
     "output_type": "stream",
     "text": [
      "P(:(|+, -): 0.0002047776639544922\n"
     ]
    }
   ],
   "source": [
    "# P(:(|+, -)\n",
    "new_liklihood = p_false_neg\n",
    "new_prior = p_disease_when_pos\n",
    "new_marginal_likelihood = (p_true_neg * p_clean) + (p_false_neg * p_disease)\n",
    "p_disease_when_pos_then_neg = new_liklihood * new_prior / new_marginal_likelihood\n",
    "print('P(:(|+, -):', p_disease_when_pos_then_neg)"
   ]
  },
  {
   "cell_type": "markdown",
   "metadata": {},
   "source": [
    "## Exercies 5.2.\n",
    "[Purpose: Getting an intuition for the previous results by using “natural frequency” and “Markov” representations]\n",
    "\n",
    "(A) Suppose that the population consists of 100,000 people. Compute how many people would be expected to fall into each cell of Table 5.4. To compute the expected frequency of people in a cell, just multiply the cell probability by the size of the population. To get you started, a few of the cells of the frequency table are filled in here:"
   ]
  },
  {
   "cell_type": "code",
   "execution_count": 17,
   "metadata": {},
   "outputs": [
    {
     "data": {
      "text/html": [
       "<div>\n",
       "<style scoped>\n",
       "    .dataframe tbody tr th:only-of-type {\n",
       "        vertical-align: middle;\n",
       "    }\n",
       "\n",
       "    .dataframe tbody tr th {\n",
       "        vertical-align: top;\n",
       "    }\n",
       "\n",
       "    .dataframe thead th {\n",
       "        text-align: right;\n",
       "    }\n",
       "</style>\n",
       "<table border=\"1\" class=\"dataframe\">\n",
       "  <thead>\n",
       "    <tr style=\"text-align: right;\">\n",
       "      <th></th>\n",
       "      <th>theta = :(</th>\n",
       "      <th>theta = :)</th>\n",
       "    </tr>\n",
       "  </thead>\n",
       "  <tbody>\n",
       "    <tr>\n",
       "      <th>D = +</th>\n",
       "      <td>0</td>\n",
       "      <td>0</td>\n",
       "    </tr>\n",
       "    <tr>\n",
       "      <th>D = -</th>\n",
       "      <td>0</td>\n",
       "      <td>0</td>\n",
       "    </tr>\n",
       "  </tbody>\n",
       "</table>\n",
       "</div>"
      ],
      "text/plain": [
       "       theta = :(  theta = :)\n",
       "D = +           0           0\n",
       "D = -           0           0"
      ]
     },
     "execution_count": 17,
     "metadata": {},
     "output_type": "execute_result"
    }
   ],
   "source": [
    "import numpy as np\n",
    "import pandas as pd\n",
    "\n",
    "empty_array = [[0, 0], [0, 0]]\n",
    "df = pd.DataFrame(empty_array)\n",
    "df.columns = ['theta = :(', 'theta = :)']\n",
    "df.index = ['D = +', 'D = -']\n",
    "df"
   ]
  },
  {
   "cell_type": "code",
   "execution_count": 24,
   "metadata": {},
   "outputs": [
    {
     "data": {
      "text/html": [
       "<div>\n",
       "<style scoped>\n",
       "    .dataframe tbody tr th:only-of-type {\n",
       "        vertical-align: middle;\n",
       "    }\n",
       "\n",
       "    .dataframe tbody tr th {\n",
       "        vertical-align: top;\n",
       "    }\n",
       "\n",
       "    .dataframe thead th {\n",
       "        text-align: right;\n",
       "    }\n",
       "</style>\n",
       "<table border=\"1\" class=\"dataframe\">\n",
       "  <thead>\n",
       "    <tr style=\"text-align: right;\">\n",
       "      <th></th>\n",
       "      <th>theta = :(</th>\n",
       "      <th>theta = :)</th>\n",
       "    </tr>\n",
       "  </thead>\n",
       "  <tbody>\n",
       "    <tr>\n",
       "      <th>D = +</th>\n",
       "      <td>99.0</td>\n",
       "      <td>4995.0</td>\n",
       "    </tr>\n",
       "    <tr>\n",
       "      <th>D = -</th>\n",
       "      <td>1.0</td>\n",
       "      <td>94905.0</td>\n",
       "    </tr>\n",
       "  </tbody>\n",
       "</table>\n",
       "</div>"
      ],
      "text/plain": [
       "       theta = :(  theta = :)\n",
       "D = +        99.0      4995.0\n",
       "D = -         1.0     94905.0"
      ]
     },
     "execution_count": 24,
     "metadata": {},
     "output_type": "execute_result"
    }
   ],
   "source": [
    "N = 100000\n",
    "df.loc['D = +','theta = :('] = p_true_pos * p_disease * N\n",
    "df.loc['D = +','theta = :)'] = p_false_pos * p_clean * N\n",
    "df.loc['D = -','theta = :('] = p_false_neg * p_disease * N\n",
    "df.loc['D = -','theta = :)'] = p_true_neg * p_clean * N\n",
    "df"
   ]
  },
  {
   "cell_type": "markdown",
   "metadata": {},
   "source": [
    "(B) Take a good look at the frequencies in the table you just computed for the previous part. These are the so-called “natural frequencies” of the events, as opposed to the somewhat unintuitive expression in terms of conditional probabilities (Gigerenzer & Hoffrage, 1995). From the cell frequencies alone, determine **the proportion of people who have the disease, given that their test result is positive**. Before computing the exact answer arithmetically, first give a rough intuitive answer merely by looking at the relative frequencies in the row D = +. Does your intuitive answer match the intuitive answer you provided when originally reading about Table 5.4? Probably not. Your intuitive answer here is probably much closer to the correct answer. Now compute the exact answer arithmetically. It should match the result from applying Bayes’ rule in Table 5.4."
   ]
  },
  {
   "cell_type": "code",
   "execution_count": 29,
   "metadata": {},
   "outputs": [
    {
     "name": "stdout",
     "output_type": "stream",
     "text": [
      "P(:(|+): 0.019434628975265017\n"
     ]
    }
   ],
   "source": [
    "# P(:(|+)\n",
    "p_disease_when_pos = df.loc['D = +', 'theta = :(']/df.loc['D = +'].sum()\n",
    "print('P(:(|+):',p_disease_when_pos)"
   ]
  },
  {
   "cell_type": "markdown",
   "metadata": {},
   "source": [
    "(C) Now we’ll consider a related representation of the probabilities in terms of natural frequencies, which is especially useful when we accumulate more data. This type of representation is called a “Markov” representation by Krauss, Martignon, and Hoffrage (1999). Suppose now we start with a population of N = 10, 000, 000 people. We expect 99.9% of them (i.e., 9,990,000) not to have the disease, and just 0.1% (i.e., 10,000) to have the disease. Now consider how many people we expect to test positive. Of the 10,000 people who have the disease, 99%, (i.e., 9,900) will be expected to test positive. Of the 9,990,000 people who do not have the disease, 5% (i.e., 499,500) will be expected to test positive. **Now consider re-testing everyone who has tested positive on the first test. How many of them are expected to show a negative result on the retest?** Use this diagram to compute your answer:"
   ]
  },
  {
   "cell_type": "code",
   "execution_count": 2,
   "metadata": {},
   "outputs": [],
   "source": [
    "N = 10000000\n",
    "p_disease = 0.001\n",
    "p_clean = (1 - p_disease)\n",
    "n_disease = N * p_disease \n",
    "n_clean = N * p_clean\n",
    "p_true_pos = 0.99\n",
    "p_false_neg = (1 - p_true_pos)\n",
    "p_clean = (1 - p_disease)\n",
    "p_false_pos = 0.05\n",
    "p_true_neg = (1 - p_false_pos)"
   ]
  },
  {
   "cell_type": "code",
   "execution_count": 3,
   "metadata": {},
   "outputs": [
    {
     "name": "stdout",
     "output_type": "stream",
     "text": [
      "Number of people who have the disease and a postive and a negative test results in two tests.\n",
      "exp(+ | :() is 9900.0\n",
      "exp(- | :() is 100.00000000000009\n",
      "exp(- | +, :() is 99.00000000000009\n",
      "\n",
      "Number of people who do not have the disease and a postive and a negative test results in two tests.\n",
      "exp(+ | :)) is 499500.0\n",
      "exp(- | :)) is 9490500.0\n",
      "exp(- | +, :)) is 474525.0\n"
     ]
    }
   ],
   "source": [
    "print('Number of people who have the disease and a postive and a negative test results in two tests.')\n",
    "print('exp(+ | :() is', n_disease * p_true_pos)\n",
    "print('exp(- | :() is', n_disease * p_false_neg)\n",
    "n_diff_results_when_disease = n_disease * p_true_pos * p_false_neg\n",
    "print('exp(- | +, :() is', n_diff_results_when_disease)\n",
    "print()\n",
    "print('Number of people who do not have the disease and a postive and a negative test results in two tests.')\n",
    "print('exp(+ | :)) is', n_clean * p_false_pos)\n",
    "print('exp(- | :)) is', n_clean * p_true_neg)\n",
    "n_diff_results_when_clean = n_clean * p_false_pos * p_true_neg\n",
    "print('exp(- | +, :)) is', n_diff_results_when_clean)"
   ]
  },
  {
   "cell_type": "markdown",
   "metadata": {},
   "source": [
    "(D) Use the diagram in the previous part to answer this: **What proportion of people, who test positive at first and then negative on retest, actually have the disease?** In other words, of the total number of people at the bottom of the diagram in the previous part (those are the people who tested positive then negative), what proportion of them are in the left branch of the tree? How does the result compare with your answer to Exercise 5.1?"
   ]
  },
  {
   "cell_type": "code",
   "execution_count": 4,
   "metadata": {},
   "outputs": [
    {
     "name": "stdout",
     "output_type": "stream",
     "text": [
      "0.00020858616504854387\n"
     ]
    }
   ],
   "source": [
    "n_disease_when_diff_results = n_diff_results_when_disease / \\\n",
    "                             (n_diff_results_when_clean + n_diff_results_when_disease)\n",
    "print(n_disease_when_diff_results)"
   ]
  },
  {
   "cell_type": "markdown",
   "metadata": {},
   "source": [
    "### Exercise 5.3. \n",
    "[Purpose: To see a hands-on example of data-order invariance.]\n",
    "\n",
    "Consider again the disease and diagnostic test of the previous two exercises.\n",
    "\n",
    "(A) Suppose that a person selected at random from the population gets the test and\n",
    "it comes back negative. Compute the probability that the person has the disease."
   ]
  },
  {
   "cell_type": "code",
   "execution_count": 6,
   "metadata": {},
   "outputs": [
    {
     "name": "stdout",
     "output_type": "stream",
     "text": [
      "1.0536741618022054e-05\n"
     ]
    }
   ],
   "source": [
    "# P(:(|-)\n",
    "likelihood = p_false_neg\n",
    "prior = p_disease\n",
    "marginal_likelihood = (p_false_neg * p_disease) + (p_true_neg * p_clean)\n",
    "p_disease_when_neg = likelihood * prior / marginal_likelihood\n",
    "print(p_disease_when_neg)"
   ]
  },
  {
   "cell_type": "markdown",
   "metadata": {},
   "source": [
    "(B) The person then gets re-tested, and on the second test the result is positive. Compute the probability that the person has the disease. How does the result compare with\n",
    "your answer to Exercise 5.1?\n"
   ]
  },
  {
   "cell_type": "code",
   "execution_count": 8,
   "metadata": {},
   "outputs": [
    {
     "name": "stdout",
     "output_type": "stream",
     "text": [
      "P(:(|-,+): 0.00020477766395449222\n",
      "Result is same as Exercies 5.1\n"
     ]
    }
   ],
   "source": [
    "new_likelihood = p_true_pos\n",
    "new_prior = p_disease_when_neg \n",
    "new_marginal_likelihood = (p_true_pos * p_disease) + (p_false_pos * p_clean)\n",
    "p_disease_when_neg_and_pos = new_likelihood * new_prior / new_marginal_likelihood\n",
    "print(\"P(:(|-,+):\", p_disease_when_neg_and_pos)\n",
    "print(\"Result is same as Exercies 5.1\")"
   ]
  },
  {
   "cell_type": "markdown",
   "metadata": {},
   "source": [
    "### Exercise 5.4. \n",
    "[Purpose: To gain intuition about Bayesian updating by using BernGrid.] \n",
    "\n",
    "Open the programBernGridExample.R. You will notice there are several examples of using the function BernGrid. Run the script. For each example, include the R code and the resulting graphic and explain what idea the example illustrates. \n",
    "\n",
    "Hints: Look back at Figures 5.2 and 5.3, and look ahead to Figure 6.5. Two of the examples involve a single flip, with the only difference between the examples being whether the prior is uniform or contains only two extreme options. The point of those two examples is to show that a single datum implies little when the prior is vague, but a single datum can have strong implications when the prior allows only two very different possibilities."
   ]
  },
  {
   "cell_type": "code",
   "execution_count": null,
   "metadata": {},
   "outputs": [],
   "source": []
  }
 ],
 "metadata": {
  "kernelspec": {
   "display_name": "Python 3",
   "language": "python",
   "name": "python3"
  },
  "language_info": {
   "codemirror_mode": {
    "name": "ipython",
    "version": 3
   },
   "file_extension": ".py",
   "mimetype": "text/x-python",
   "name": "python",
   "nbconvert_exporter": "python",
   "pygments_lexer": "ipython3",
   "version": "3.6.4"
  }
 },
 "nbformat": 4,
 "nbformat_minor": 2
}
